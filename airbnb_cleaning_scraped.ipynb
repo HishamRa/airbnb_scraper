{
 "cells": [
  {
   "cell_type": "code",
   "execution_count": 237,
   "metadata": {
    "collapsed": true
   },
   "outputs": [],
   "source": [
    "#importing libraries\n",
    "\n",
    "import pandas as pd\n",
    "import numpy as np\n",
    "import matplotlib.pyplot as plt"
   ]
  },
  {
   "cell_type": "code",
   "execution_count": 238,
   "outputs": [],
   "source": [
    "#getting the dataframes I've created\n",
    "df_ottawa = pd.read_csv('Ottawa.csv')\n",
    "df_san_francisco = pd.read_csv('San Francisco.csv')"
   ],
   "metadata": {
    "collapsed": false,
    "pycharm": {
     "name": "#%%\n"
    }
   }
  },
  {
   "cell_type": "code",
   "execution_count": 239,
   "outputs": [
    {
     "data": {
      "text/plain": "                                        Listing Name Listing Price  \\\n0  ❤ Chic Guest Suite with Parking & Private Sunroom      $198 CAD   \n1  Longterm Rental Modern Dwntwn Condo w/ Gardenview      $105 CAD   \n2    Beautiful Loft - Downtown Ottawa (free parking)       $88 CAD   \n3       The Bowery Condos + Lofts Next Level Suites!      $102 CAD   \n4  Entire 1-bedroom Ottawa Center Byward Market (...      $114 CAD   \n\n                          Listing Details  \n0   2 guests · 1 bedroom · 1 bed · 1 bath  \n1  2 guests · 1 bedroom · 2 beds · 1 bath  \n2      2 guests · Studio · 1 bed · 1 bath  \n3       1 guest · Studio · 1 bed · 1 bath  \n4   2 guests · 1 bedroom · 1 bed · 1 bath  ",
      "text/html": "<div>\n<style scoped>\n    .dataframe tbody tr th:only-of-type {\n        vertical-align: middle;\n    }\n\n    .dataframe tbody tr th {\n        vertical-align: top;\n    }\n\n    .dataframe thead th {\n        text-align: right;\n    }\n</style>\n<table border=\"1\" class=\"dataframe\">\n  <thead>\n    <tr style=\"text-align: right;\">\n      <th></th>\n      <th>Listing Name</th>\n      <th>Listing Price</th>\n      <th>Listing Details</th>\n    </tr>\n  </thead>\n  <tbody>\n    <tr>\n      <th>0</th>\n      <td>❤ Chic Guest Suite with Parking &amp; Private Sunroom</td>\n      <td>$198 CAD</td>\n      <td>2 guests · 1 bedroom · 1 bed · 1 bath</td>\n    </tr>\n    <tr>\n      <th>1</th>\n      <td>Longterm Rental Modern Dwntwn Condo w/ Gardenview</td>\n      <td>$105 CAD</td>\n      <td>2 guests · 1 bedroom · 2 beds · 1 bath</td>\n    </tr>\n    <tr>\n      <th>2</th>\n      <td>Beautiful Loft - Downtown Ottawa (free parking)</td>\n      <td>$88 CAD</td>\n      <td>2 guests · Studio · 1 bed · 1 bath</td>\n    </tr>\n    <tr>\n      <th>3</th>\n      <td>The Bowery Condos + Lofts Next Level Suites!</td>\n      <td>$102 CAD</td>\n      <td>1 guest · Studio · 1 bed · 1 bath</td>\n    </tr>\n    <tr>\n      <th>4</th>\n      <td>Entire 1-bedroom Ottawa Center Byward Market (...</td>\n      <td>$114 CAD</td>\n      <td>2 guests · 1 bedroom · 1 bed · 1 bath</td>\n    </tr>\n  </tbody>\n</table>\n</div>"
     },
     "execution_count": 239,
     "metadata": {},
     "output_type": "execute_result"
    }
   ],
   "source": [
    "df_ottawa.head()"
   ],
   "metadata": {
    "collapsed": false,
    "pycharm": {
     "name": "#%%\n"
    }
   }
  },
  {
   "cell_type": "code",
   "execution_count": 240,
   "outputs": [
    {
     "data": {
      "text/plain": "                                        Listing Name Listing Price  \\\n0  Retreat to Modern Suite in The Castro with Garden      $326 CAD   \n1                  Relaxing and private, with views!      $166 CAD   \n2          Mana's Place:  Private Entrance Apartment       $95 CAD   \n3                                       Ukulele Room       $62 CAD   \n4                                     BARTLETT QUEEN      $163 CAD   \n\n                                    Listing Details  \n0             2 guests · 1 bedroom · 1 bed · 1 bath  \n1             2 guests · 1 bedroom · 1 bed · 1 bath  \n2             2 guests · 1 bedroom · 1 bed · 1 bath  \n3  2 guests · 1 bedroom · 2 beds · 1.5 shared baths  \n4        2 guests · Studio · 1 bed · 1 private bath  ",
      "text/html": "<div>\n<style scoped>\n    .dataframe tbody tr th:only-of-type {\n        vertical-align: middle;\n    }\n\n    .dataframe tbody tr th {\n        vertical-align: top;\n    }\n\n    .dataframe thead th {\n        text-align: right;\n    }\n</style>\n<table border=\"1\" class=\"dataframe\">\n  <thead>\n    <tr style=\"text-align: right;\">\n      <th></th>\n      <th>Listing Name</th>\n      <th>Listing Price</th>\n      <th>Listing Details</th>\n    </tr>\n  </thead>\n  <tbody>\n    <tr>\n      <th>0</th>\n      <td>Retreat to Modern Suite in The Castro with Garden</td>\n      <td>$326 CAD</td>\n      <td>2 guests · 1 bedroom · 1 bed · 1 bath</td>\n    </tr>\n    <tr>\n      <th>1</th>\n      <td>Relaxing and private, with views!</td>\n      <td>$166 CAD</td>\n      <td>2 guests · 1 bedroom · 1 bed · 1 bath</td>\n    </tr>\n    <tr>\n      <th>2</th>\n      <td>Mana's Place:  Private Entrance Apartment</td>\n      <td>$95 CAD</td>\n      <td>2 guests · 1 bedroom · 1 bed · 1 bath</td>\n    </tr>\n    <tr>\n      <th>3</th>\n      <td>Ukulele Room</td>\n      <td>$62 CAD</td>\n      <td>2 guests · 1 bedroom · 2 beds · 1.5 shared baths</td>\n    </tr>\n    <tr>\n      <th>4</th>\n      <td>BARTLETT QUEEN</td>\n      <td>$163 CAD</td>\n      <td>2 guests · Studio · 1 bed · 1 private bath</td>\n    </tr>\n  </tbody>\n</table>\n</div>"
     },
     "execution_count": 240,
     "metadata": {},
     "output_type": "execute_result"
    }
   ],
   "source": [
    "df_san_francisco.head()"
   ],
   "metadata": {
    "collapsed": false,
    "pycharm": {
     "name": "#%%\n"
    }
   }
  },
  {
   "cell_type": "code",
   "execution_count": 241,
   "outputs": [
    {
     "data": {
      "text/plain": "                                        Listing Name Listing Price in CAD$  \\\n0  ❤ Chic Guest Suite with Parking & Private Sunroom                   198   \n1  Longterm Rental Modern Dwntwn Condo w/ Gardenview                   105   \n2    Beautiful Loft - Downtown Ottawa (free parking)                    88   \n3       The Bowery Condos + Lofts Next Level Suites!                   102   \n4  Entire 1-bedroom Ottawa Center Byward Market (...                   114   \n\n  Guests  \n0      2  \n1      2  \n2      2  \n3      1  \n4      2  ",
      "text/html": "<div>\n<style scoped>\n    .dataframe tbody tr th:only-of-type {\n        vertical-align: middle;\n    }\n\n    .dataframe tbody tr th {\n        vertical-align: top;\n    }\n\n    .dataframe thead th {\n        text-align: right;\n    }\n</style>\n<table border=\"1\" class=\"dataframe\">\n  <thead>\n    <tr style=\"text-align: right;\">\n      <th></th>\n      <th>Listing Name</th>\n      <th>Listing Price in CAD$</th>\n      <th>Guests</th>\n    </tr>\n  </thead>\n  <tbody>\n    <tr>\n      <th>0</th>\n      <td>❤ Chic Guest Suite with Parking &amp; Private Sunroom</td>\n      <td>198</td>\n      <td>2</td>\n    </tr>\n    <tr>\n      <th>1</th>\n      <td>Longterm Rental Modern Dwntwn Condo w/ Gardenview</td>\n      <td>105</td>\n      <td>2</td>\n    </tr>\n    <tr>\n      <th>2</th>\n      <td>Beautiful Loft - Downtown Ottawa (free parking)</td>\n      <td>88</td>\n      <td>2</td>\n    </tr>\n    <tr>\n      <th>3</th>\n      <td>The Bowery Condos + Lofts Next Level Suites!</td>\n      <td>102</td>\n      <td>1</td>\n    </tr>\n    <tr>\n      <th>4</th>\n      <td>Entire 1-bedroom Ottawa Center Byward Market (...</td>\n      <td>114</td>\n      <td>2</td>\n    </tr>\n  </tbody>\n</table>\n</div>"
     },
     "execution_count": 241,
     "metadata": {},
     "output_type": "execute_result"
    }
   ],
   "source": [
    "#cleaning the ottawa data\n",
    "df_ottawa['Listing Price in CAD$'] = df_ottawa['Listing Price'].str.extract('(\\d+)')\n",
    "del df_ottawa['Listing Price']\n",
    "df_ottawa['Guests'] = df_ottawa['Listing Details'].str[0]\n",
    "del df_ottawa['Listing Details']\n",
    "df_ottawa.head()"
   ],
   "metadata": {
    "collapsed": false,
    "pycharm": {
     "name": "#%%\n"
    }
   }
  },
  {
   "cell_type": "code",
   "execution_count": 242,
   "outputs": [
    {
     "data": {
      "text/plain": "                                        Listing Name Listing Price in CAD$  \\\n0  Retreat to Modern Suite in The Castro with Garden                   326   \n1                  Relaxing and private, with views!                   166   \n2          Mana's Place:  Private Entrance Apartment                    95   \n3                                       Ukulele Room                    62   \n4                                     BARTLETT QUEEN                   163   \n\n  Guests  \n0      2  \n1      2  \n2      2  \n3      2  \n4      2  ",
      "text/html": "<div>\n<style scoped>\n    .dataframe tbody tr th:only-of-type {\n        vertical-align: middle;\n    }\n\n    .dataframe tbody tr th {\n        vertical-align: top;\n    }\n\n    .dataframe thead th {\n        text-align: right;\n    }\n</style>\n<table border=\"1\" class=\"dataframe\">\n  <thead>\n    <tr style=\"text-align: right;\">\n      <th></th>\n      <th>Listing Name</th>\n      <th>Listing Price in CAD$</th>\n      <th>Guests</th>\n    </tr>\n  </thead>\n  <tbody>\n    <tr>\n      <th>0</th>\n      <td>Retreat to Modern Suite in The Castro with Garden</td>\n      <td>326</td>\n      <td>2</td>\n    </tr>\n    <tr>\n      <th>1</th>\n      <td>Relaxing and private, with views!</td>\n      <td>166</td>\n      <td>2</td>\n    </tr>\n    <tr>\n      <th>2</th>\n      <td>Mana's Place:  Private Entrance Apartment</td>\n      <td>95</td>\n      <td>2</td>\n    </tr>\n    <tr>\n      <th>3</th>\n      <td>Ukulele Room</td>\n      <td>62</td>\n      <td>2</td>\n    </tr>\n    <tr>\n      <th>4</th>\n      <td>BARTLETT QUEEN</td>\n      <td>163</td>\n      <td>2</td>\n    </tr>\n  </tbody>\n</table>\n</div>"
     },
     "execution_count": 242,
     "metadata": {},
     "output_type": "execute_result"
    }
   ],
   "source": [
    "#cleaning the san francisco data\n",
    "df_san_francisco['Listing Price in CAD$'] = df_san_francisco['Listing Price'].str.extract('(\\d+)')\n",
    "del df_san_francisco['Listing Price']\n",
    "df_san_francisco['Guests'] = df_san_francisco['Listing Details'].str[0]\n",
    "del df_san_francisco['Listing Details']\n",
    "df_san_francisco.head()"
   ],
   "metadata": {
    "collapsed": false,
    "pycharm": {
     "name": "#%%\n"
    }
   }
  },
  {
   "cell_type": "code",
   "execution_count": 243,
   "outputs": [
    {
     "data": {
      "text/plain": "                                        Listing Name Listing Price in CAD$  \\\n0  ❤ Chic Guest Suite with Parking & Private Sunroom                   198   \n1  Longterm Rental Modern Dwntwn Condo w/ Gardenview                   105   \n2    Beautiful Loft - Downtown Ottawa (free parking)                    88   \n4  Entire 1-bedroom Ottawa Center Byward Market (...                   114   \n5  RETRO LIVING/MODERN VIBE - DOWNTOWN - FREE PAR...                   118   \n\n  Guests  \n0      2  \n1      2  \n2      2  \n4      2  \n5      2  ",
      "text/html": "<div>\n<style scoped>\n    .dataframe tbody tr th:only-of-type {\n        vertical-align: middle;\n    }\n\n    .dataframe tbody tr th {\n        vertical-align: top;\n    }\n\n    .dataframe thead th {\n        text-align: right;\n    }\n</style>\n<table border=\"1\" class=\"dataframe\">\n  <thead>\n    <tr style=\"text-align: right;\">\n      <th></th>\n      <th>Listing Name</th>\n      <th>Listing Price in CAD$</th>\n      <th>Guests</th>\n    </tr>\n  </thead>\n  <tbody>\n    <tr>\n      <th>0</th>\n      <td>❤ Chic Guest Suite with Parking &amp; Private Sunroom</td>\n      <td>198</td>\n      <td>2</td>\n    </tr>\n    <tr>\n      <th>1</th>\n      <td>Longterm Rental Modern Dwntwn Condo w/ Gardenview</td>\n      <td>105</td>\n      <td>2</td>\n    </tr>\n    <tr>\n      <th>2</th>\n      <td>Beautiful Loft - Downtown Ottawa (free parking)</td>\n      <td>88</td>\n      <td>2</td>\n    </tr>\n    <tr>\n      <th>4</th>\n      <td>Entire 1-bedroom Ottawa Center Byward Market (...</td>\n      <td>114</td>\n      <td>2</td>\n    </tr>\n    <tr>\n      <th>5</th>\n      <td>RETRO LIVING/MODERN VIBE - DOWNTOWN - FREE PAR...</td>\n      <td>118</td>\n      <td>2</td>\n    </tr>\n  </tbody>\n</table>\n</div>"
     },
     "execution_count": 243,
     "metadata": {},
     "output_type": "execute_result"
    }
   ],
   "source": [
    "#unifying the number of guests in the ottawa data to just 2\n",
    "indexes = df_ottawa[df_ottawa['Guests'] == '1' ].index\n",
    "df_ottawa.drop(indexes, inplace=True)\n",
    "df_ottawa.head()"
   ],
   "metadata": {
    "collapsed": false,
    "pycharm": {
     "name": "#%%\n"
    }
   }
  },
  {
   "cell_type": "code",
   "execution_count": 245,
   "outputs": [
    {
     "data": {
      "text/plain": "                                        Listing Name Listing Price in CAD$  \\\n0  Retreat to Modern Suite in The Castro with Garden                   326   \n1                  Relaxing and private, with views!                   166   \n2          Mana's Place:  Private Entrance Apartment                    95   \n3                                       Ukulele Room                    62   \n4                                     BARTLETT QUEEN                   163   \n\n  Guests  \n0      2  \n1      2  \n2      2  \n3      2  \n4      2  ",
      "text/html": "<div>\n<style scoped>\n    .dataframe tbody tr th:only-of-type {\n        vertical-align: middle;\n    }\n\n    .dataframe tbody tr th {\n        vertical-align: top;\n    }\n\n    .dataframe thead th {\n        text-align: right;\n    }\n</style>\n<table border=\"1\" class=\"dataframe\">\n  <thead>\n    <tr style=\"text-align: right;\">\n      <th></th>\n      <th>Listing Name</th>\n      <th>Listing Price in CAD$</th>\n      <th>Guests</th>\n    </tr>\n  </thead>\n  <tbody>\n    <tr>\n      <th>0</th>\n      <td>Retreat to Modern Suite in The Castro with Garden</td>\n      <td>326</td>\n      <td>2</td>\n    </tr>\n    <tr>\n      <th>1</th>\n      <td>Relaxing and private, with views!</td>\n      <td>166</td>\n      <td>2</td>\n    </tr>\n    <tr>\n      <th>2</th>\n      <td>Mana's Place:  Private Entrance Apartment</td>\n      <td>95</td>\n      <td>2</td>\n    </tr>\n    <tr>\n      <th>3</th>\n      <td>Ukulele Room</td>\n      <td>62</td>\n      <td>2</td>\n    </tr>\n    <tr>\n      <th>4</th>\n      <td>BARTLETT QUEEN</td>\n      <td>163</td>\n      <td>2</td>\n    </tr>\n  </tbody>\n</table>\n</div>"
     },
     "execution_count": 245,
     "metadata": {},
     "output_type": "execute_result"
    }
   ],
   "source": [
    "#unifying the number of guests in the san francisco data to just 2\n",
    "indexes = df_san_francisco[df_san_francisco['Guests'] == '1' ].index\n",
    "df_san_francisco.drop(indexes, inplace=True)\n",
    "df_san_francisco.head()"
   ],
   "metadata": {
    "collapsed": false,
    "pycharm": {
     "name": "#%%\n"
    }
   }
  },
  {
   "cell_type": "code",
   "execution_count": null,
   "outputs": [],
   "source": [],
   "metadata": {
    "collapsed": false,
    "pycharm": {
     "name": "#%%\n"
    }
   }
  }
 ],
 "metadata": {
  "kernelspec": {
   "display_name": "Python 3",
   "language": "python",
   "name": "python3"
  },
  "language_info": {
   "codemirror_mode": {
    "name": "ipython",
    "version": 2
   },
   "file_extension": ".py",
   "mimetype": "text/x-python",
   "name": "python",
   "nbconvert_exporter": "python",
   "pygments_lexer": "ipython2",
   "version": "2.7.6"
  }
 },
 "nbformat": 4,
 "nbformat_minor": 0
}
