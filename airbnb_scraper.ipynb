{
 "cells": [
  {
   "cell_type": "code",
   "execution_count": 133,
   "metadata": {
    "collapsed": true
   },
   "outputs": [],
   "source": [
    "#importing libraries\n",
    "import requests\n",
    "from bs4 import BeautifulSoup\n",
    "from selenium import webdriver\n",
    "from selenium.webdriver.common.keys import Keys\n",
    "from selenium.webdriver.support.ui import WebDriverWait\n",
    "import time\n",
    "import pandas as pd"
   ]
  },
  {
   "cell_type": "code",
   "execution_count": 134,
   "outputs": [],
   "source": [
    "#creating the driver and launching the site\n",
    "\n",
    "driver = webdriver.Chrome()\n",
    "driver.maximize_window()\n",
    "url = \"https://www.airbnb.ca/\"\n",
    "driver.get(url)\n"
   ],
   "metadata": {
    "collapsed": false,
    "pycharm": {
     "name": "#%%\n"
    }
   }
  },
  {
   "cell_type": "code",
   "execution_count": 135,
   "outputs": [],
   "source": [
    "#handling site cookies\n",
    "driver.implicitly_wait(5)\n",
    "driver.find_element_by_class_name('_1qnlffd6').click()"
   ],
   "metadata": {
    "collapsed": false,
    "pycharm": {
     "name": "#%%\n"
    }
   }
  },
  {
   "cell_type": "code",
   "execution_count": 136,
   "outputs": [],
   "source": [
    "#selecting the city, dates and getting the search results\n",
    "city = driver.find_element_by_id('bigsearch-query-detached-query')\n",
    "city.send_keys(\"Ottawa\")\n",
    "city.send_keys(Keys.ENTER)\n",
    "\n",
    "check_in = driver.find_element_by_id(\"tab--tabs--1\")\n",
    "check_in.click()\n",
    "\n",
    "search = driver.find_element_by_xpath('//button[normalize-space()=\"Search\"]')\n",
    "search.click()\n",
    "\n",
    "\n"
   ],
   "metadata": {
    "collapsed": false,
    "pycharm": {
     "name": "#%%\n"
    }
   }
  },
  {
   "cell_type": "code",
   "execution_count": 137,
   "outputs": [],
   "source": [
    "#saving the new url and getting the content on BeautifulSoup\n",
    "wait = WebDriverWait(driver, 10)\n",
    "\n",
    "url = driver.current_url\n",
    "\n",
    "results = requests.get(url)\n",
    "content = results.content\n",
    "soup = BeautifulSoup(content, 'html.parser')"
   ],
   "metadata": {
    "collapsed": false,
    "pycharm": {
     "name": "#%%\n"
    }
   }
  },
  {
   "cell_type": "code",
   "execution_count": 138,
   "outputs": [],
   "source": [
    "#creating lists that go over through every page and scrapes the data\n",
    "prices = []\n",
    "titles = []\n",
    "details = []\n",
    "n=0\n",
    "\n",
    "while n < 15:\n",
    "    driver.find_element_by_class_name('_za9j7e').click()\n",
    "    n+=1\n",
    "    for x in soup.findAll('div', attrs={'class': '_8ssblpx'}):\n",
    "        title= x.find('span', attrs={'class': '_bzh5lkq'})\n",
    "        price= x.find('span', attrs={'class': '_olc9rf0'})\n",
    "        detail=x.find('div', attrs={'class':'_kqh46o'})\n",
    "        titles.append(title.get_text())\n",
    "        prices.append(price.get_text())\n",
    "        details.append(detail.get_text())"
   ],
   "metadata": {
    "collapsed": false,
    "pycharm": {
     "name": "#%%\n"
    }
   }
  },
  {
   "cell_type": "code",
   "execution_count": 139,
   "outputs": [],
   "source": [
    "#save all the lists in a dictionary\n",
    "all_dict= {'Listing Name':titles, 'Listing Price':prices,'Listing Details':details}"
   ],
   "metadata": {
    "collapsed": false,
    "pycharm": {
     "name": "#%%\n"
    }
   }
  },
  {
   "cell_type": "code",
   "execution_count": 140,
   "outputs": [],
   "source": [
    "#converts the data into a dataframe and creating a new csv file of the data\n",
    "df = pd.DataFrame(all_dict)\n",
    "df.to_csv('Ottawa.csv', index=False, encoding='utf-8')"
   ],
   "metadata": {
    "collapsed": false,
    "pycharm": {
     "name": "#%%\n"
    }
   }
  }
 ],
 "metadata": {
  "kernelspec": {
   "display_name": "Python 3",
   "language": "python",
   "name": "python3"
  },
  "language_info": {
   "codemirror_mode": {
    "name": "ipython",
    "version": 2
   },
   "file_extension": ".py",
   "mimetype": "text/x-python",
   "name": "python",
   "nbconvert_exporter": "python",
   "pygments_lexer": "ipython2",
   "version": "2.7.6"
  }
 },
 "nbformat": 4,
 "nbformat_minor": 0
}